{
  "nbformat": 4,
  "nbformat_minor": 0,
  "metadata": {
    "colab": {
      "provenance": [],
      "authorship_tag": "ABX9TyORJnL0clMF3DmzVJ1v0hxi",
      "include_colab_link": true
    },
    "kernelspec": {
      "name": "python3",
      "display_name": "Python 3"
    },
    "language_info": {
      "name": "python"
    }
  },
  "cells": [
    {
      "cell_type": "markdown",
      "metadata": {
        "id": "view-in-github",
        "colab_type": "text"
      },
      "source": [
        "<a href=\"https://colab.research.google.com/github/tabba98/football/blob/main/PremierLeaguePrediction.ipynb\" target=\"_parent\"><img src=\"https://colab.research.google.com/assets/colab-badge.svg\" alt=\"Open In Colab\"/></a>"
      ]
    },
    {
      "cell_type": "code",
      "execution_count": 4,
      "metadata": {
        "id": "v_9obdcw8uyE"
      },
      "outputs": [],
      "source": [
        "import json\n",
        "import re\n",
        "import requests\n",
        "import pandas as pd\n",
        "\n",
        "seasons = [2017, 2018, 2019, 2020, 2021, 2022]\n",
        "competitions = ['EPL']\n",
        "\n",
        "all_data = []\n",
        "for season in seasons:\n",
        "  for comp in competitions:\n",
        "    url = f'https://understat.com/league/{comp}/{season}'\n",
        "    html_doc = requests.get(url).text\n",
        "\n",
        "    data = re.search(r\"datesData\\s*=\\s*JSON\\.parse\\('(.*?)'\\)\", html_doc).group(1)\n",
        "    data = re.sub(r'\\\\x([\\dA-F]{2})', lambda g: chr(int(g.group(1), 16)), data)\n",
        "    data =json.loads(data)\n",
        "\n",
        "    for d in data:\n",
        "      all_data.append({\n",
        "          'season': season,\n",
        "          'competitio': comp,\n",
        "          'date': d['datetime'][:10],\n",
        "          'home_team': d['h']['title'],\n",
        "          'away_team': d['a']['title'],\n",
        "          'home_goals': d['goals']['h'],\n",
        "          'away_goals': d['goals']['a'],\n",
        "          'home_xG': d['xG']['h'],\n",
        "          'away_xG': d['xG']['a'],\n",
        "          'forecast': list(d.get('forecast', {}).values())\n",
        "      })\n",
        "\n",
        "df = pd.DataFrame(all_data)\n",
        "\n",
        "df[['home_win_prob', 'draw_prob', 'away_win_prob']] = df['forecast'].apply(lambda x: pd.Series(x))\n",
        "\n",
        "df = df.drop('forecast', axis=1)\n",
        "\n",
        "df = df.dropna(how='any', subset=None)\n"
      ]
    },
    {
      "cell_type": "code",
      "source": [],
      "metadata": {
        "id": "RabNJXCf_8jl"
      },
      "execution_count": null,
      "outputs": []
    }
  ]
}